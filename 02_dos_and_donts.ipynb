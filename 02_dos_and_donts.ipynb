{
 "cells": [
  {
   "cell_type": "markdown",
   "id": "72809846-2448-492e-8ce4-8273f159fc81",
   "metadata": {},
   "source": [
    "![Cracking the Python Code by Helena Lucia](./img/header-1.png)\n",
    "\n",
    "<a href=\"./README.md\">\n",
    "    About this Course\n",
    "</a>\n",
    "<hr>\n",
    "\n",
    "# Part 1: Persist Values Using Variables in Python\n",
    "<hr>\n",
    "\n",
    "### Lesson 2: Dos and Don'ts With Variables\n",
    "\n"
   ]
  },
  {
   "cell_type": "markdown",
   "id": "b0d09ba7-d6cf-4acb-b405-48c357e4dc62",
   "metadata": {},
   "source": [
    "![Under Construction](./img/under-construction.png)\n",
    "     \n",
    "<hr/>\n",
    "\n",
    "### Coming soon!\n"
   ]
  },
  {
   "cell_type": "raw",
   "id": "f9440415-e814-4d8b-b060-694e0d412bcf",
   "metadata": {},
   "source": []
  }
 ],
 "metadata": {
  "kernelspec": {
   "display_name": "Python 3 (ipykernel)",
   "language": "python",
   "name": "python3"
  },
  "language_info": {
   "codemirror_mode": {
    "name": "ipython",
    "version": 3
   },
   "file_extension": ".py",
   "mimetype": "text/x-python",
   "name": "python",
   "nbconvert_exporter": "python",
   "pygments_lexer": "ipython3",
   "version": "3.10.9"
  }
 },
 "nbformat": 4,
 "nbformat_minor": 5
}
